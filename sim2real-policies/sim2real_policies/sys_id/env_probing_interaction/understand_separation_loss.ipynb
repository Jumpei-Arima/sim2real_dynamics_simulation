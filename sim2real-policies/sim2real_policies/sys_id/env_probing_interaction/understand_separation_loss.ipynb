{
 "cells": [
  {
   "cell_type": "code",
   "execution_count": null,
   "metadata": {},
   "outputs": [],
   "source": [
    "\"\"\"\n",
    "original implementation of separation loss in EPI paper is follow:\n",
    "\"\"\"\n",
    "def separation_loss(y_true, y_pred):\n",
    "\n",
    "    y_true = tf.squeeze(y_true)\n",
    "    env_id, _ = tf.unique(y_true)\n",
    "\n",
    "    mu = []\n",
    "    sigma = []\n",
    "    for i in range(EPI.NUM_OF_ENVS):\n",
    "        idx = tf.where(tf.equal(y_true, env_id[i]))  # indices of y_true equivalent to unique env_id[i]\n",
    "        traj = tf.gather(y_pred, idx)   # corresponding list of trajectories in y_pred\n",
    "        mu.append(tf.squeeze(K.mean(traj, axis=0)))  # trajectories mean as item of mu\n",
    "        this_sigma = tf.maximum(K.mean(K.std(traj, axis=0))-0.1, 0)  # std of trajectories minus 0.1 as item of sigma\n",
    "        sigma.append(this_sigma)\n",
    "\n",
    "    mu = tf.stack(mu)\n",
    "    r = tf.reduce_sum(mu * mu, 1)\n",
    "    r = tf.reshape(r, [-1, 1])\n",
    "    D = (r - 2 * tf.matmul(mu, tf.transpose(mu)) + tf.transpose(r))/tf.constant(EPI.EMBEDDING_DIMENSION, dtype=tf.float32)\n",
    "    D = tf.sqrt(D + tf.eye(EPI.NUM_OF_ENVS, dtype=tf.float32))\n",
    "    distance = K.mean(tf.reduce_sum(0.1 - tf.minimum(D, 0.1)))\n",
    "\n",
    "    sigma = tf.stack(sigma)\n",
    "\n",
    "    return (distance + K.mean(sigma))*0.01\n",
    "\n",
    "'''\n",
    "understandings of above:\n",
    "we have mean embeddings of trajectories over same idex: t1=[a1, a2], t2=[b1, b2], as item of mu\n",
    "we want to measure the distance of the two mean embeddings, which is:\n",
    "dis = sqrt((a1-b1)^2+(a2-b2)^2), which is a L2 norm.\n",
    "so we calculate the distance in matrix representation:\n",
    "we have T=[t1, t2]\n",
    "r = reduce_sum(T*T, 1), which is L2 norm of T, giving:\n",
    "r = [a1^2+a2^2, b1^2+b2^2]=[A, B]\n",
    "so, r-2r*r^T+r^T=[[A, A],[B,B]]-2*[[A, C],[C, B]]+[[A,B],[A,B]]\n",
    "where C = a1*b1+a2*b2\n",
    "r-2r*r^T+r^T= [[0, A+B-2C],[B-2C+A, 0]]\n",
    "and A+B-2C = (a1-b1)^2 + (a2-b2)^2\n",
    "EPI.EMBEDDING_DIMENSION is for normalization, and tf.eye is for reasonably sqrt.\n",
    "sigma is the std term, which needs to be minimised.\n",
    "'''"
   ]
  },
  {
   "cell_type": "code",
   "execution_count": 11,
   "metadata": {},
   "outputs": [
    {
     "name": "stdout",
     "output_type": "stream",
     "text": [
      "<type 'numpy.float64'>\n"
     ]
    },
    {
     "data": {
      "text/plain": [
       "array([ 0.2,  1. ])"
      ]
     },
     "execution_count": 11,
     "metadata": {},
     "output_type": "execute_result"
    }
   ],
   "source": [
    "import numpy as np\n",
    "import tensorflow as tf\n",
    "a=[0.2, 1.]\n",
    "a=np.array(a).astype('float64').reshape(-1)\n",
    "print(type(np.array(a).astype('float64').reshape(-1)[0]))\n",
    "np.unique(a)\n"
   ]
  },
  {
   "cell_type": "code",
   "execution_count": 25,
   "metadata": {},
   "outputs": [
    {
     "name": "stdout",
     "output_type": "stream",
     "text": [
      "[[[2 0]\n",
      "  [4 3]]\n",
      "\n",
      " [[4 2]\n",
      "  [2 3]]]\n"
     ]
    }
   ],
   "source": [
    "a = np.random.randint(5,size=(2,2,2))\n",
    "print(a)"
   ]
  },
  {
   "cell_type": "code",
   "execution_count": 26,
   "metadata": {},
   "outputs": [
    {
     "name": "stdout",
     "output_type": "stream",
     "text": [
      "[[2 0]\n",
      " [4 3]]\n",
      "[ 3.   1.5]\n",
      "[[4 2]\n",
      " [2 3]]\n",
      "[ 3.   2.5]\n"
     ]
    }
   ],
   "source": [
    "mu=[]\n",
    "for env in a:\n",
    "    print(env)\n",
    "    print(np.squeeze(np.mean(env, axis=0)))\n",
    "    mu.append(np.squeeze(np.mean(env, axis=0)))"
   ]
  },
  {
   "cell_type": "code",
   "execution_count": 27,
   "metadata": {},
   "outputs": [
    {
     "name": "stdout",
     "output_type": "stream",
     "text": [
      "[[2 0]\n",
      " [4 3]]\n",
      "[ 0.9  1.4]\n",
      "[[4 2]\n",
      " [2 3]]\n",
      "[ 0.9  0.4]\n"
     ]
    }
   ],
   "source": [
    "sigma=[]\n",
    "for env in a:\n",
    "    print(env)\n",
    "    print(np.std(env, axis=0)-0.1)\n",
    "    sigma.append(np.std(env, axis=0)-0.1)"
   ]
  },
  {
   "cell_type": "code",
   "execution_count": 28,
   "metadata": {},
   "outputs": [
    {
     "name": "stdout",
     "output_type": "stream",
     "text": [
      "[array([ 3. ,  1.5]), array([ 3. ,  2.5])]\n",
      "[[ 3.   1.5]\n",
      " [ 3.   2.5]]\n"
     ]
    }
   ],
   "source": [
    "print(mu)\n",
    "mu = np.stack(mu)\n",
    "print(mu)"
   ]
  },
  {
   "cell_type": "code",
   "execution_count": 32,
   "metadata": {},
   "outputs": [
    {
     "name": "stdout",
     "output_type": "stream",
     "text": [
      "[ 11.25  15.25]\n"
     ]
    },
    {
     "data": {
      "text/plain": [
       "array([[ 11.25],\n",
       "       [ 15.25]])"
      ]
     },
     "execution_count": 32,
     "metadata": {},
     "output_type": "execute_result"
    }
   ],
   "source": [
    "r=np.sum(mu*mu, axis=1)  # element-wise product\n",
    "print(r)\n",
    "r=r.reshape(-1,1)\n",
    "r"
   ]
  },
  {
   "cell_type": "code",
   "execution_count": 37,
   "metadata": {},
   "outputs": [
    {
     "name": "stdout",
     "output_type": "stream",
     "text": [
      "[[ 11.25]\n",
      " [ 15.25]]\n",
      "[[-22.5 -25.5]\n",
      " [-25.5 -30.5]]\n",
      "[[ 11.25  15.25]]\n",
      "[[ 0.  1.]\n",
      " [ 1.  0.]]\n",
      "[[ 0.   0.5]\n",
      " [ 0.5  0. ]]\n"
     ]
    }
   ],
   "source": [
    "D=(r-2*np.matmul(mu, mu.T)+r.T)\n",
    "print(r)\n",
    "print(-2*np.matmul(mu, mu.T))\n",
    "print(r.T)\n",
    "print(D)\n",
    "D=D/len(D)\n",
    "print(D)"
   ]
  },
  {
   "cell_type": "code",
   "execution_count": 38,
   "metadata": {},
   "outputs": [
    {
     "data": {
      "text/plain": [
       "array([[ 1.        ,  0.70710678],\n",
       "       [ 0.70710678,  1.        ]])"
      ]
     },
     "execution_count": 38,
     "metadata": {},
     "output_type": "execute_result"
    }
   ],
   "source": [
    "np.sqrt(D+np.eye(len(D)))"
   ]
  },
  {
   "cell_type": "code",
   "execution_count": null,
   "metadata": {},
   "outputs": [],
   "source": []
  }
 ],
 "metadata": {
  "kernelspec": {
   "display_name": "Python 3",
   "language": "python",
   "name": "python3"
  },
  "language_info": {
   "codemirror_mode": {
    "name": "ipython",
    "version": 2
   },
   "file_extension": ".py",
   "mimetype": "text/x-python",
   "name": "python",
   "nbconvert_exporter": "python",
   "pygments_lexer": "ipython2",
   "version": "2.7.15"
  }
 },
 "nbformat": 4,
 "nbformat_minor": 2
}
